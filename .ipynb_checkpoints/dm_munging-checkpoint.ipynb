{
 "metadata": {
  "name": "",
  "signature": "sha256:8d7abc36ecc9137c80143e93056a4a5f3e4758601a99851b8e3d57bb252785bb"
 },
 "nbformat": 3,
 "nbformat_minor": 0,
 "worksheets": [
  {
   "cells": [
    {
     "cell_type": "code",
     "collapsed": false,
     "input": [
      "import pandas as pd\n",
      "from pandas import DataFrame, Series\n",
      "import numpy as np"
     ],
     "language": "python",
     "metadata": {},
     "outputs": []
    },
    {
     "cell_type": "code",
     "collapsed": false,
     "input": [
      "map_df = pd.read_csv(\"MDL_adoptive_metadata.txt\", sep='\\t', index_col='#SampleID')\n"
     ],
     "language": "python",
     "metadata": {},
     "outputs": []
    },
    {
     "cell_type": "code",
     "collapsed": false,
     "input": [
      "dm_df = pd.read_csv(\"weighted_stool_dm.txt\", sep='\\t', index_col=0)"
     ],
     "language": "python",
     "metadata": {},
     "outputs": []
    },
    {
     "cell_type": "code",
     "collapsed": false,
     "input": [
      "dm_df.head()"
     ],
     "language": "python",
     "metadata": {},
     "outputs": []
    },
    {
     "cell_type": "code",
     "collapsed": false,
     "input": [
      "#stack the series and filter out the duplicates \n",
      "dm_series = dm_df.stack()\n",
      "seen = []\n",
      "for id_pair in dm_series.index.tolist():\n",
      "    if id_pair[::-1] in seen:\n",
      "        continue\n",
      "    seen.append(id_pair)\n",
      "\n",
      "dm_series = dm_series[seen]"
     ],
     "language": "python",
     "metadata": {},
     "outputs": []
    },
    {
     "cell_type": "code",
     "collapsed": false,
     "input": [
      "stack_df = DataFrame(dm_series)\n",
      "stack_df.columns = ['dist']"
     ],
     "language": "python",
     "metadata": {},
     "outputs": []
    },
    {
     "cell_type": "code",
     "collapsed": false,
     "input": [
      "def add_metadata(compare):\n",
      "    def callback(row):\n",
      "        key1 = row.name[0]\n",
      "        key2 = row.name[1]\n",
      "        \n",
      "        def lookup(key):\n",
      "            return (map_df.lookup([key1], [key]),\n",
      "                    map_df.lookup([key2], [key]))\n",
      "        \n",
      "        return compare(lookup)\n",
      "        \n",
      "    return callback\n",
      "\n",
      "def identity(key):\n",
      "    def _(lookup):\n",
      "        v1, v2 = lookup(key)\n",
      "        if v1 == v2:\n",
      "            return 'yes'\n",
      "        return 'no'\n",
      "    return _\n",
      "\n",
      "\n",
      "def adopt(lookup):\n",
      "    h1, h2 = lookup('Family_Number')\n",
      "    if h1 == h2:\n",
      "        p1, p2 = lookup('Person')\n",
      "        if p1 != p2:\n",
      "            a1, a2 = lookup('adopt_status')\n",
      "            adopted = ['Afr', 'USA']\n",
      "            not_adopted = ['Mom', 'Dad']\n",
      "            if a1 in adopted and a2 in not_adopted:\n",
      "                return 'adopted_' + a1[0] #Why are these arrays again??\n",
      "            elif a2 in adopted and a1 in not_adopted:\n",
      "                return 'adopted_' + a2[0]\n",
      "    return 'no'\n",
      "\n",
      "def sibling(lookup):\n",
      "    h1, h2 = lookup('Family_Number')\n",
      "    if h1 == h2:\n",
      "        p1, p2 = lookup('Person')\n",
      "        if p1 != p2:\n",
      "            a1, a2 = lookup('adopt_status')\n",
      "            sibling = ['Bio', 'Afr', 'USA']\n",
      "            if a1 in sibling and a2 in sibling:\n",
      "                return 'yes'\n",
      "    return 'no'\n",
      "\n",
      "\n",
      "def child(lookup):\n",
      "    h1, h2 = lookup('Family_Number')\n",
      "    if h1 == h2:\n",
      "        p1, p2 = lookup('Person')\n",
      "        if p1 != p2:\n",
      "            a1, a2 = lookup('adopt_status')\n",
      "            child = ['Bio', 'Afr', 'USA']\n",
      "            parent = ['Mom', 'Dad']\n",
      "            if a1 in child and a2 in parent:\n",
      "                return 'yes'\n",
      "            elif a2 in child and a1 in parent:\n",
      "                return 'yes'\n",
      "    return 'no'\n",
      "\n",
      "def timepoint(index):\n",
      "    def callback(lookup):\n",
      "        timepoints = lookup('Time_Point')\n",
      "        return timepoints[index][0] # Why are there arrays here???\n",
      "    return callback\n",
      "\n",
      "stack_df['Adopt_Status'] = stack_df.apply(add_metadata(adopt), axis=1)\n",
      "stack_df['Family'] = stack_df.apply(add_metadata(identity('Family_Number')), axis=1)\n",
      "stack_df['Person'] = stack_df.apply(add_metadata(identity('Person')), axis=1)\n",
      "stack_df['Sibling'] = stack_df.apply(add_metadata(sibling), axis=1)\n",
      "stack_df['Child'] = stack_df.apply(add_metadata(child), axis=1)\n",
      "stack_df['TPA'] = stack_df.apply(add_metadata(timepoint(0)), axis=1)\n",
      "stack_df['TPB'] = stack_df.apply(add_metadata(timepoint(1)), axis=1)"
     ],
     "language": "python",
     "metadata": {},
     "outputs": []
    },
    {
     "cell_type": "code",
     "collapsed": false,
     "input": [
      "stack_df = stack_df[stack_df.dist != 0]"
     ],
     "language": "python",
     "metadata": {},
     "outputs": []
    },
    {
     "cell_type": "code",
     "collapsed": false,
     "input": [
      "stack_df.drop('TPA', axis=1, inplace=True)\n",
      "stack_df.drop('TPB', axis=1, inplace=True)"
     ],
     "language": "python",
     "metadata": {},
     "outputs": []
    },
    {
     "cell_type": "code",
     "collapsed": false,
     "input": [
      "stack_df['Relationship'] = 'NaN'"
     ],
     "language": "python",
     "metadata": {},
     "outputs": []
    },
    {
     "cell_type": "code",
     "collapsed": false,
     "input": [],
     "language": "python",
     "metadata": {},
     "outputs": []
    },
    {
     "cell_type": "code",
     "collapsed": false,
     "input": [
      "for i, row in stack_df.iterrows():\n",
      "    if row['Family'] == 'yes' and row['Child'] == 'yes':\n",
      "        stack_df.ix[i,'Relationship'] = 'child'\n",
      "    elif row['Family'] == 'yes' and row['Sibling'] == 'yes':\n",
      "        stack_df.ix[i,'Relationship'] = 'sibling'\n",
      "    elif row['Family'] == 'yes' and row['Person'] == 'yes':\n",
      "        stack_df.ix[i,'Relationship'] = 'self'\n",
      "    elif row['Family'] == 'yes':\n",
      "        stack_df.ix[i,'Relationship'] = 'spouse'\n",
      "    else:\n",
      "        stack_df.ix[i,'Relationship'] = 'not'"
     ],
     "language": "python",
     "metadata": {},
     "outputs": []
    },
    {
     "cell_type": "code",
     "collapsed": false,
     "input": [
      "stack_df.Relationship.unique()"
     ],
     "language": "python",
     "metadata": {},
     "outputs": []
    },
    {
     "cell_type": "code",
     "collapsed": false,
     "input": [
      "stack_df['Adopt_Status'].replace('no','not', inplace = True)"
     ],
     "language": "python",
     "metadata": {},
     "outputs": []
    },
    {
     "cell_type": "code",
     "collapsed": false,
     "input": [
      "stack_df['Relationship_Adopt'] = stack_df['Relationship'] + '_' + stack_df['Adopt_Status']"
     ],
     "language": "python",
     "metadata": {},
     "outputs": []
    },
    {
     "cell_type": "code",
     "collapsed": false,
     "input": [
      "stack_df.drop('Family', axis=1, inplace=True)\n",
      "stack_df.drop('Person', axis=1, inplace=True)\n",
      "stack_df.drop('Adopt_Status', axis=1, inplace=True)\n",
      "stack_df.drop('Sibling', axis=1, inplace=True)\n",
      "stack_df.drop('Child', axis=1, inplace=True)\n",
      "stack_df.drop('Relationship', axis=1, inplace=True)"
     ],
     "language": "python",
     "metadata": {},
     "outputs": []
    },
    {
     "cell_type": "code",
     "collapsed": false,
     "input": [
      "for i, row in stack_df.iterrows():\n",
      "    if i[0][:3] == i[1][:3]:\n",
      "        stack_df.ix[i,'Family_Number_'] = i[0][2]\n",
      "    else:\n",
      "        stack_df.ix[i,'Family_Number_'] = 'NF'"
     ],
     "language": "python",
     "metadata": {},
     "outputs": []
    },
    {
     "cell_type": "code",
     "collapsed": false,
     "input": [
      "stack_df['Family_Number_'].unique()"
     ],
     "language": "python",
     "metadata": {},
     "outputs": []
    },
    {
     "cell_type": "code",
     "collapsed": false,
     "input": [
      "stack_df.to_csv('filtered_stool_table.txt')\n"
     ],
     "language": "python",
     "metadata": {},
     "outputs": []
    },
    {
     "cell_type": "code",
     "collapsed": false,
     "input": [
      "stack_df[stack_df['Adopt_Status'] != 'no']"
     ],
     "language": "python",
     "metadata": {},
     "outputs": []
    },
    {
     "cell_type": "code",
     "collapsed": false,
     "input": [
      "person_df = pd.read_csv(\"filtered_stool_table_person.csv\", sep=',', index_col = ['Person1','Person2'])"
     ],
     "language": "python",
     "metadata": {},
     "outputs": []
    },
    {
     "cell_type": "code",
     "collapsed": false,
     "input": [
      "person_df.head()"
     ],
     "language": "python",
     "metadata": {},
     "outputs": []
    },
    {
     "cell_type": "code",
     "collapsed": false,
     "input": [
      "stack_df.head()"
     ],
     "language": "python",
     "metadata": {},
     "outputs": []
    },
    {
     "cell_type": "code",
     "collapsed": false,
     "input": [
      "# for i, row in stack_df.iterrows():\n",
      "#     print i[0]\n",
      "#     for j, p_row in person_df.iterrows():\n",
      "#         print j\n",
      "#         if i[0] == j[0] and i[0] == j[1] and i[1] == j[1]:\n",
      "#             stack_df.ix[i, 'Person_Number_'] = person_df.ix[j, 'Person']"
     ],
     "language": "python",
     "metadata": {},
     "outputs": []
    },
    {
     "cell_type": "markdown",
     "metadata": {},
     "source": [
      "To do\n",
      "-----\n",
      "1. Remove duplicates\n",
      "2. Remove 0s \n",
      "3. Potentially be able to add metadata fo second sample ID\n",
      "4. Convert categorical data into integers? \n",
      "\n",
      "Questions\n",
      "---------\n",
      "1. Does the metada for both IDs need to be present?\n",
      "2. Can we do this with beta diversity metrics. This statistic *only* exists as paired data. Why does this work? (It probably won't) - John \n",
      "3. "
     ]
    },
    {
     "cell_type": "markdown",
     "metadata": {},
     "source": [
      "Here I want to be able to combine these two data frames. I think that the best way to do this is going to be with the apply function, however there may be a way to do this with merge, join or concat. can't figure it out though."
     ]
    },
    {
     "cell_type": "code",
     "collapsed": false,
     "input": [],
     "language": "python",
     "metadata": {},
     "outputs": []
    }
   ],
   "metadata": {}
  }
 ]
}