{
 "metadata": {
  "name": "",
  "signature": "sha256:a31aa0838a532d23cf3f9d61d5f07fa0a1e2d742d40c80b5749fcc88ebed44ec"
 },
 "nbformat": 3,
 "nbformat_minor": 0,
 "worksheets": [
  {
   "cells": [
    {
     "cell_type": "code",
     "collapsed": false,
     "input": [
      "from qiime.parse import parse_mapping_file_to_dict\n",
      "from qiime.parse import parse_distmat_to_dict"
     ],
     "language": "python",
     "metadata": {},
     "outputs": [],
     "prompt_number": 35
    },
    {
     "cell_type": "code",
     "collapsed": false,
     "input": [
      "mapping_file = open(\"MDL_adoptive_metadata.txt\", \"U\")\n",
      "\n",
      "mapping_dictionary, comments = parse_mapping_file_to_dict(mapping_file)\n",
      "# for key in mapping_dictionary.keys():\n",
      "#     print key\n",
      "print mapping_dictionary['FN4Dad.Mouth.TP2']['Age_in_days']"
     ],
     "language": "python",
     "metadata": {},
     "outputs": [
      {
       "output_type": "stream",
       "stream": "stdout",
       "text": [
        "15261\n"
       ]
      }
     ],
     "prompt_number": 17
    },
    {
     "cell_type": "code",
     "collapsed": false,
     "input": [
      "dist_mat = open(\"weighted_unifrac_dm.txt\", \"U\")\n",
      "dm = parse_distmat_to_dict(dist_mat)"
     ],
     "language": "python",
     "metadata": {},
     "outputs": [],
     "prompt_number": 40
    },
    {
     "cell_type": "code",
     "collapsed": false,
     "input": [],
     "language": "python",
     "metadata": {},
     "outputs": [],
     "prompt_number": 40
    },
    {
     "cell_type": "code",
     "collapsed": false,
     "input": [],
     "language": "python",
     "metadata": {},
     "outputs": []
    }
   ],
   "metadata": {}
  }
 ]
}