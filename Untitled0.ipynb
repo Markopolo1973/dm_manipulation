{
 "metadata": {
  "name": "",
  "signature": "sha256:d3725c57a9e173013ef4207c1e46192dc7e03eb520d9b326a202e41b52fa20c7"
 },
 "nbformat": 3,
 "nbformat_minor": 0,
 "worksheets": [
  {
   "cells": [
    {
     "cell_type": "code",
     "collapsed": false,
     "input": [
      "import pandas as pd\n",
      "from pandas import DataFrame, Series\n",
      "import numpy as np\n",
      "import collections\n"
     ],
     "language": "python",
     "metadata": {},
     "outputs": [],
     "prompt_number": 9
    },
    {
     "cell_type": "code",
     "collapsed": false,
     "input": [
      "from pandas import DataFrame\n",
      "df = DataFrame([[0, 1, 2],\n",
      "                    [1, 0, 3],\n",
      "                    [2, 3, 0]], \n",
      "                   index=['a', 'b', 'c'], \n",
      "                   columns=['a', 'b', 'c'])\n",
      "ser = df.stack()\n",
      "ser"
     ],
     "language": "python",
     "metadata": {},
     "outputs": [
      {
       "metadata": {},
       "output_type": "pyout",
       "prompt_number": 10,
       "text": [
        "a  a    0\n",
        "   b    1\n",
        "   c    2\n",
        "b  a    1\n",
        "   b    0\n",
        "   c    3\n",
        "c  a    2\n",
        "   b    3\n",
        "   c    0\n",
        "dtype: int64"
       ]
      }
     ],
     "prompt_number": 10
    },
    {
     "cell_type": "code",
     "collapsed": false,
     "input": [
      "matrix = (np.arange(16).reshape((4, 4)))\n",
      "\n"
     ],
     "language": "python",
     "metadata": {},
     "outputs": [],
     "prompt_number": 11
    },
    {
     "cell_type": "code",
     "collapsed": false,
     "input": [
      "df2 = DataFrame({'a' : ['one', 'one', 'two', 'three', 'two', 'one', 'six'],                  \n",
      "                 'b' : ['x', 'y', 'y', 'x', 'y', 'x', 'x'],\n",
      "                 'c' : np.random.randn(7)})\n",
      "df2"
     ],
     "language": "python",
     "metadata": {},
     "outputs": [
      {
       "html": [
        "<div style=\"max-height:1000px;max-width:1500px;overflow:auto;\">\n",
        "<table border=\"1\" class=\"dataframe\">\n",
        "  <thead>\n",
        "    <tr style=\"text-align: right;\">\n",
        "      <th></th>\n",
        "      <th>a</th>\n",
        "      <th>b</th>\n",
        "      <th>c</th>\n",
        "    </tr>\n",
        "  </thead>\n",
        "  <tbody>\n",
        "    <tr>\n",
        "      <th>0</th>\n",
        "      <td>   one</td>\n",
        "      <td> x</td>\n",
        "      <td>-0.442453</td>\n",
        "    </tr>\n",
        "    <tr>\n",
        "      <th>1</th>\n",
        "      <td>   one</td>\n",
        "      <td> y</td>\n",
        "      <td> 0.880894</td>\n",
        "    </tr>\n",
        "    <tr>\n",
        "      <th>2</th>\n",
        "      <td>   two</td>\n",
        "      <td> y</td>\n",
        "      <td> 0.353165</td>\n",
        "    </tr>\n",
        "    <tr>\n",
        "      <th>3</th>\n",
        "      <td> three</td>\n",
        "      <td> x</td>\n",
        "      <td>-1.413073</td>\n",
        "    </tr>\n",
        "    <tr>\n",
        "      <th>4</th>\n",
        "      <td>   two</td>\n",
        "      <td> y</td>\n",
        "      <td>-0.141592</td>\n",
        "    </tr>\n",
        "    <tr>\n",
        "      <th>5</th>\n",
        "      <td>   one</td>\n",
        "      <td> x</td>\n",
        "      <td>-0.954783</td>\n",
        "    </tr>\n",
        "    <tr>\n",
        "      <th>6</th>\n",
        "      <td>   six</td>\n",
        "      <td> x</td>\n",
        "      <td>-0.532875</td>\n",
        "    </tr>\n",
        "  </tbody>\n",
        "</table>\n",
        "</div>"
       ],
       "metadata": {},
       "output_type": "pyout",
       "prompt_number": 12,
       "text": [
        "       a  b         c\n",
        "0    one  x -0.442453\n",
        "1    one  y  0.880894\n",
        "2    two  y  0.353165\n",
        "3  three  x -1.413073\n",
        "4    two  y -0.141592\n",
        "5    one  x -0.954783\n",
        "6    six  x -0.532875"
       ]
      }
     ],
     "prompt_number": 12
    },
    {
     "cell_type": "code",
     "collapsed": false,
     "input": [
      "df2.drop(['b', 'c'], axis=1)"
     ],
     "language": "python",
     "metadata": {},
     "outputs": [
      {
       "html": [
        "<div style=\"max-height:1000px;max-width:1500px;overflow:auto;\">\n",
        "<table border=\"1\" class=\"dataframe\">\n",
        "  <thead>\n",
        "    <tr style=\"text-align: right;\">\n",
        "      <th></th>\n",
        "      <th>a</th>\n",
        "    </tr>\n",
        "  </thead>\n",
        "  <tbody>\n",
        "    <tr>\n",
        "      <th>0</th>\n",
        "      <td>   one</td>\n",
        "    </tr>\n",
        "    <tr>\n",
        "      <th>1</th>\n",
        "      <td>   one</td>\n",
        "    </tr>\n",
        "    <tr>\n",
        "      <th>2</th>\n",
        "      <td>   two</td>\n",
        "    </tr>\n",
        "    <tr>\n",
        "      <th>3</th>\n",
        "      <td> three</td>\n",
        "    </tr>\n",
        "    <tr>\n",
        "      <th>4</th>\n",
        "      <td>   two</td>\n",
        "    </tr>\n",
        "    <tr>\n",
        "      <th>5</th>\n",
        "      <td>   one</td>\n",
        "    </tr>\n",
        "    <tr>\n",
        "      <th>6</th>\n",
        "      <td>   six</td>\n",
        "    </tr>\n",
        "  </tbody>\n",
        "</table>\n",
        "</div>"
       ],
       "metadata": {},
       "output_type": "pyout",
       "prompt_number": 17,
       "text": [
        "       a\n",
        "0    one\n",
        "1    one\n",
        "2    two\n",
        "3  three\n",
        "4    two\n",
        "5    one\n",
        "6    six"
       ]
      }
     ],
     "prompt_number": 17
    },
    {
     "cell_type": "code",
     "collapsed": false,
     "input": [
      "df2\n"
     ],
     "language": "python",
     "metadata": {},
     "outputs": [
      {
       "html": [
        "<div style=\"max-height:1000px;max-width:1500px;overflow:auto;\">\n",
        "<table border=\"1\" class=\"dataframe\">\n",
        "  <thead>\n",
        "    <tr style=\"text-align: right;\">\n",
        "      <th></th>\n",
        "      <th>a</th>\n",
        "      <th>b</th>\n",
        "      <th>c</th>\n",
        "    </tr>\n",
        "  </thead>\n",
        "  <tbody>\n",
        "    <tr>\n",
        "      <th>0</th>\n",
        "      <td>   one</td>\n",
        "      <td> x</td>\n",
        "      <td>-0.442453</td>\n",
        "    </tr>\n",
        "    <tr>\n",
        "      <th>1</th>\n",
        "      <td>   one</td>\n",
        "      <td> y</td>\n",
        "      <td> 0.880894</td>\n",
        "    </tr>\n",
        "    <tr>\n",
        "      <th>2</th>\n",
        "      <td>   two</td>\n",
        "      <td> y</td>\n",
        "      <td> 0.353165</td>\n",
        "    </tr>\n",
        "    <tr>\n",
        "      <th>3</th>\n",
        "      <td> three</td>\n",
        "      <td> x</td>\n",
        "      <td>-1.413073</td>\n",
        "    </tr>\n",
        "    <tr>\n",
        "      <th>4</th>\n",
        "      <td>   two</td>\n",
        "      <td> y</td>\n",
        "      <td>-0.141592</td>\n",
        "    </tr>\n",
        "    <tr>\n",
        "      <th>5</th>\n",
        "      <td>   one</td>\n",
        "      <td> x</td>\n",
        "      <td>-0.954783</td>\n",
        "    </tr>\n",
        "    <tr>\n",
        "      <th>6</th>\n",
        "      <td>   six</td>\n",
        "      <td> x</td>\n",
        "      <td>-0.532875</td>\n",
        "    </tr>\n",
        "  </tbody>\n",
        "</table>\n",
        "</div>"
       ],
       "metadata": {},
       "output_type": "pyout",
       "prompt_number": 16,
       "text": [
        "       a  b         c\n",
        "0    one  x -0.442453\n",
        "1    one  y  0.880894\n",
        "2    two  y  0.353165\n",
        "3  three  x -1.413073\n",
        "4    two  y -0.141592\n",
        "5    one  x -0.954783\n",
        "6    six  x -0.532875"
       ]
      }
     ],
     "prompt_number": 16
    },
    {
     "cell_type": "code",
     "collapsed": false,
     "input": [
      "%time \n",
      "for i in range(100000000):\n",
      "    i*i"
     ],
     "language": "python",
     "metadata": {},
     "outputs": [
      {
       "output_type": "stream",
       "stream": "stdout",
       "text": [
        "CPU times: user 6 \u00b5s, sys: 1e+03 ns, total: 7 \u00b5s\n",
        "Wall time: 12.9 \u00b5s\n"
       ]
      }
     ],
     "prompt_number": 7
    },
    {
     "cell_type": "code",
     "collapsed": false,
     "input": [],
     "language": "python",
     "metadata": {},
     "outputs": []
    }
   ],
   "metadata": {}
  }
 ]
}